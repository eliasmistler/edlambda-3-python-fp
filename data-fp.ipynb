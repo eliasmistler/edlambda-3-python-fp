{
 "cells": [
  {
   "cell_type": "markdown",
   "metadata": {
    "slideshow": {
     "slide_type": "slide"
    }
   },
   "source": [
    "**Functional programming in Python**\n",
    "\n",
    "For Data people\n",
    "\n",
    "2021-07-22, EdLambda #3\n",
    "\n",
    "by Elias Mistler | Senior Data Engineer | [Previse](https://previ.se/)"
   ]
  },
  {
   "cell_type": "code",
   "execution_count": null,
   "metadata": {
    "slideshow": {
     "slide_type": "fragment"
    }
   },
   "outputs": [],
   "source": [
    "import pandas as pd\n",
    "import numpy as np\n",
    "from toolz import *"
   ]
  },
  {
   "cell_type": "markdown",
   "metadata": {
    "slideshow": {
     "slide_type": "slide"
    }
   },
   "source": [
    "# Contents\n",
    "\n",
    "* Why FP in Python?\n",
    "* An example: Cleaning email addresses\n",
    "* Tipps, tricks and the `toolz` library\n",
    "* Think functional with `pandas`"
   ]
  },
  {
   "cell_type": "markdown",
   "metadata": {
    "slideshow": {
     "slide_type": "slide"
    }
   },
   "source": [
    "# Why FP in Python/Jupyter?\n",
    "- your notebooks are messy and you get lost in them\n",
    "- when you make a mistake you need to reload your data\n",
    "- your colleagues don't know how to use your code"
   ]
  },
  {
   "cell_type": "markdown",
   "metadata": {
    "slideshow": {
     "slide_type": "fragment"
    }
   },
   "source": [
    "## Why not?\n",
    "- other Python users may struggle to read your code - **make sure they can!**\n",
    "- ~explorability~ -- *not really a concern in Jupyter*"
   ]
  },
  {
   "cell_type": "markdown",
   "metadata": {
    "slideshow": {
     "slide_type": "slide"
    }
   },
   "source": [
    "## FP thinking\n",
    "* **Write pure, idempotent functions**: Avoid side effects. Instead ensure your functions behave exactly the same way when called twice with the same inputs.\n",
    "* **Treat data as immutable**: Avoid setting values of existing data structures \"in place\". Instead create new \"versions\" of data when you need to modify."
   ]
  },
  {
   "cell_type": "markdown",
   "metadata": {
    "slideshow": {
     "slide_type": "slide"
    }
   },
   "source": [
    "# Example: Cleaning email addresses"
   ]
  },
  {
   "cell_type": "code",
   "execution_count": null,
   "metadata": {
    "slideshow": {
     "slide_type": "fragment"
    }
   },
   "outputs": [],
   "source": [
    "email_addresses = {'   yOu@YoU.com  ', 'me@ME.co.uk', 'not an email'}"
   ]
  },
  {
   "cell_type": "markdown",
   "metadata": {
    "slideshow": {
     "slide_type": "slide"
    }
   },
   "source": [
    "## Why `for`-loops are bad\n",
    "Easy to write, tedious to read:"
   ]
  },
  {
   "cell_type": "code",
   "execution_count": null,
   "metadata": {
    "slideshow": {
     "slide_type": "fragment"
    }
   },
   "outputs": [],
   "source": [
    "emails_out = []\n",
    "for email in email_addresses:\n",
    "    email = email.strip()\n",
    "    email = email.lower()\n",
    "    if '@' in email:\n",
    "        emails_out.append(email)\n",
    "    \n",
    "del email  # not necessary, but maybe a good idea\n",
    "emails_out"
   ]
  },
  {
   "cell_type": "markdown",
   "metadata": {
    "slideshow": {
     "slide_type": "slide"
    }
   },
   "source": [
    "In Python, loops do not have their own scope, i.e. variables will exist outside of the loop, and keep the value from the last iteration:"
   ]
  },
  {
   "cell_type": "code",
   "execution_count": null,
   "metadata": {
    "slideshow": {
     "slide_type": "fragment"
    }
   },
   "outputs": [],
   "source": [
    "for x in range(100):\n",
    "    if x == 65:\n",
    "        break\n",
    "\n",
    "x"
   ]
  },
  {
   "cell_type": "markdown",
   "metadata": {
    "slideshow": {
     "slide_type": "slide"
    }
   },
   "source": [
    "Be aware that this also applies to functions within a loop:"
   ]
  },
  {
   "cell_type": "code",
   "execution_count": null,
   "metadata": {
    "slideshow": {
     "slide_type": "fragment"
    }
   },
   "outputs": [],
   "source": [
    "functions = [lambda: x for x in range(5)]\n",
    "[fn() for fn in functions]"
   ]
  },
  {
   "cell_type": "markdown",
   "metadata": {
    "slideshow": {
     "slide_type": "slide"
    }
   },
   "source": [
    "Another reason to avoid loops is the inefficiency of building arrays one element at a time:"
   ]
  },
  {
   "cell_type": "code",
   "execution_count": null,
   "metadata": {
    "slideshow": {
     "slide_type": "fragment"
    }
   },
   "outputs": [],
   "source": [
    "%%timeit\n",
    "out = []\n",
    "for x in range(10000000):\n",
    "    out.append(x)"
   ]
  },
  {
   "cell_type": "code",
   "execution_count": null,
   "metadata": {
    "slideshow": {
     "slide_type": "fragment"
    }
   },
   "outputs": [],
   "source": [
    "%%timeit\n",
    "out = [x for x in range(10000000)]"
   ]
  },
  {
   "cell_type": "code",
   "execution_count": null,
   "metadata": {
    "slideshow": {
     "slide_type": "fragment"
    }
   },
   "outputs": [],
   "source": [
    "%%timeit\n",
    "out = list(range(10000000))"
   ]
  },
  {
   "cell_type": "markdown",
   "metadata": {
    "slideshow": {
     "slide_type": "slide"
    }
   },
   "source": [
    "## Why FP for the sake of it is bad"
   ]
  },
  {
   "cell_type": "code",
   "execution_count": null,
   "metadata": {
    "slideshow": {
     "slide_type": "fragment"
    }
   },
   "outputs": [],
   "source": [
    "def isin(elem, seq) -> bool:\n",
    "    return elem in seq\n",
    "\n",
    "sorted(filter(partial(isin, '@'), map(str.lower, map(str.strip, email_addresses))))"
   ]
  },
  {
   "cell_type": "markdown",
   "metadata": {
    "slideshow": {
     "slide_type": "fragment"
    }
   },
   "source": [
    "Concise? Yes. But at what cost?\n",
    "\n",
    "If your code is hard to read, it's not clever. It's clever if everyone can read it. Avoid deep nesting of functions"
   ]
  },
  {
   "cell_type": "markdown",
   "metadata": {
    "slideshow": {
     "slide_type": "slide"
    }
   },
   "source": [
    "## A nice middle ground: the comprehension syntax"
   ]
  },
  {
   "cell_type": "code",
   "execution_count": null,
   "metadata": {
    "slideshow": {
     "slide_type": "fragment"
    }
   },
   "outputs": [],
   "source": [
    "sorted(email.strip().lower()\n",
    "       for email in email_addresses\n",
    "       if '@' in email)"
   ]
  },
  {
   "cell_type": "markdown",
   "metadata": {
    "slideshow": {
     "slide_type": "fragment"
    }
   },
   "source": [
    "Concise, clean, easy to read - this is ideal and very pythonic."
   ]
  },
  {
   "cell_type": "markdown",
   "metadata": {
    "slideshow": {
     "slide_type": "slide"
    }
   },
   "source": [
    "A list comprehension has its own scope, so you don't need to worry about the variables used in it. However, still be careful about lambda functions. The following two snippets do different things:"
   ]
  },
  {
   "cell_type": "code",
   "execution_count": null,
   "metadata": {
    "slideshow": {
     "slide_type": "fragment"
    }
   },
   "outputs": [],
   "source": [
    "functions = [lambda y: x * y for x in range(5)]\n",
    "[fn(3) for fn in functions]"
   ]
  },
  {
   "cell_type": "code",
   "execution_count": null,
   "metadata": {
    "slideshow": {
     "slide_type": "fragment"
    }
   },
   "outputs": [],
   "source": [
    "functions = [partial(x.__mul__) for x in range(5)]\n",
    "[fn(3) for fn in functions]"
   ]
  },
  {
   "cell_type": "markdown",
   "metadata": {
    "slideshow": {
     "slide_type": "slide"
    }
   },
   "source": [
    "## Alternative: FP Pipe"
   ]
  },
  {
   "cell_type": "code",
   "execution_count": null,
   "metadata": {
    "slideshow": {
     "slide_type": "fragment"
    }
   },
   "outputs": [],
   "source": [
    "thread_last(email_addresses,\n",
    "            (map, str.strip),\n",
    "            (map, str.lower),\n",
    "            (filter, partial(isin, '@')),\n",
    "            sorted)"
   ]
  },
  {
   "cell_type": "markdown",
   "metadata": {
    "slideshow": {
     "slide_type": "fragment"
    }
   },
   "source": [
    "The pipe is very clear, as you can read it top-down, left-to-right (as opposed to the inside-out of nested functions). It's less pythonic, but can be very useful when building logic that would not lend itself well to the comprehension syntax."
   ]
  },
  {
   "cell_type": "markdown",
   "metadata": {
    "slideshow": {
     "slide_type": "slide"
    }
   },
   "source": [
    "# Tipps, tricks and the `toolz` library"
   ]
  },
  {
   "cell_type": "markdown",
   "metadata": {
    "slideshow": {
     "slide_type": "slide"
    }
   },
   "source": [
    "## Pure functions\n",
    "Nothing is keeping you from writing pure functions - i.e. no side effects like changing inputs or global variables."
   ]
  },
  {
   "cell_type": "markdown",
   "metadata": {
    "slideshow": {
     "slide_type": "fragment"
    }
   },
   "source": [
    "Bad example:"
   ]
  },
  {
   "cell_type": "code",
   "execution_count": null,
   "metadata": {
    "slideshow": {
     "slide_type": "fragment"
    }
   },
   "outputs": [],
   "source": [
    "def enrich(d: dict):\n",
    "    d['new_key'] = ..."
   ]
  },
  {
   "cell_type": "markdown",
   "metadata": {
    "slideshow": {
     "slide_type": "slide"
    }
   },
   "source": [
    "Use a pure function instead:"
   ]
  },
  {
   "cell_type": "code",
   "execution_count": null,
   "metadata": {
    "slideshow": {
     "slide_type": "fragment"
    }
   },
   "outputs": [],
   "source": [
    "def enrich(d: dict) -> dict:\n",
    "    return {'new_key': ..., **d}"
   ]
  },
  {
   "cell_type": "markdown",
   "metadata": {
    "slideshow": {
     "slide_type": "slide"
    }
   },
   "source": [
    "The `toolz` library can give you additional support to do this:"
   ]
  },
  {
   "cell_type": "code",
   "execution_count": null,
   "metadata": {
    "slideshow": {
     "slide_type": "fragment"
    }
   },
   "outputs": [],
   "source": [
    "def enrich(d: dict) -> dict:\n",
    "    return assoc(d, 'new_key', ...)"
   ]
  },
  {
   "cell_type": "markdown",
   "metadata": {
    "slideshow": {
     "slide_type": "fragment"
    }
   },
   "source": [
    "Also see `dissoc`, `merge` and `merge_with`"
   ]
  },
  {
   "cell_type": "markdown",
   "metadata": {
    "slideshow": {
     "slide_type": "slide"
    }
   },
   "source": [
    "## Pipes"
   ]
  },
  {
   "cell_type": "code",
   "execution_count": null,
   "metadata": {
    "slideshow": {
     "slide_type": "fragment"
    }
   },
   "outputs": [],
   "source": [
    "d = {'a': 1, 'b': 2, 'c': 3}\n",
    "\n",
    "thread_first(d,\n",
    "             (assoc, 'd', 4),\n",
    "             (dissoc, 'b'),\n",
    "             (merge, {'x': 15, 'y': 16}))"
   ]
  },
  {
   "cell_type": "markdown",
   "metadata": {
    "slideshow": {
     "slide_type": "fragment"
    }
   },
   "source": [
    "It's immutable!"
   ]
  },
  {
   "cell_type": "code",
   "execution_count": null,
   "metadata": {
    "slideshow": {
     "slide_type": "fragment"
    }
   },
   "outputs": [],
   "source": [
    "d"
   ]
  },
  {
   "cell_type": "markdown",
   "metadata": {
    "slideshow": {
     "slide_type": "slide"
    }
   },
   "source": [
    "*Note*: `thread_first` puts the piped data into the first position of the function, `thread_last` into the last:\n",
    "* `thread_first(d, (fn, a, b))` is equivalent to `fn(d, a, b)`\n",
    "* `thread_last(d, (fn, a, b))` is equivalent to `fn(a, b, d)`\n",
    "* For any other ways of passing arguments, use `partial` or `curry`. A lot of `toolz` functions come \"pre-curried\", e.g. `curried.map`\n",
    "\n",
    "Alternatively, you can use `compose` to combine functions before applying them (example from the `toolz` readme):"
   ]
  },
  {
   "cell_type": "code",
   "execution_count": null,
   "metadata": {
    "slideshow": {
     "slide_type": "slide"
    }
   },
   "outputs": [],
   "source": [
    "def stem(word):\n",
    "    \"\"\" Stem word to primitive form \"\"\"\n",
    "    return word.lower().rstrip(\",.!:;'-\\\"\").lstrip(\"'\\\"\")\n",
    "\n",
    "wordcount = compose(frequencies, curried.map(stem), str.split)\n",
    "\n",
    "sentence = \"This cat jumped over this other cat!\"\n",
    "wordcount(sentence)"
   ]
  },
  {
   "cell_type": "markdown",
   "metadata": {
    "slideshow": {
     "slide_type": "slide"
    }
   },
   "source": [
    "## Dunder-methods are your friends\n",
    "Many classes in Python have so-called dunder-methods, which can be very useful in a functional context.\n",
    "\n",
    "Due to `self` usually being the first argument in these methods, you can use them either on the class or the object:"
   ]
  },
  {
   "cell_type": "code",
   "execution_count": null,
   "metadata": {
    "slideshow": {
     "slide_type": "slide"
    }
   },
   "outputs": [],
   "source": [
    "'abcdef'.__contains__('a')"
   ]
  },
  {
   "cell_type": "code",
   "execution_count": null,
   "metadata": {
    "slideshow": {
     "slide_type": "fragment"
    }
   },
   "outputs": [],
   "source": [
    "str.__contains__('abcdef', 'a')"
   ]
  },
  {
   "cell_type": "code",
   "execution_count": null,
   "metadata": {
    "slideshow": {
     "slide_type": "fragment"
    }
   },
   "outputs": [],
   "source": [
    "int.__divmod__(49, 7)"
   ]
  },
  {
   "cell_type": "code",
   "execution_count": null,
   "metadata": {
    "slideshow": {
     "slide_type": "fragment"
    }
   },
   "outputs": [],
   "source": [
    "thread_last(range(50),\n",
    "            (filter, (6).__lt__),  # less than\n",
    "            (filter, (9).__ne__),  # not equal\n",
    "            (filter, (12).__ge__),  # greater than\n",
    "            set)"
   ]
  },
  {
   "cell_type": "markdown",
   "metadata": {
    "slideshow": {
     "slide_type": "slide"
    }
   },
   "source": [
    "## Hide your mess\n",
    "If a library requires you to do inplace changes, or you use existing code that does so, you can usually encapsulate this in a function which to the outside behaves as a pure function -- typically using a `copy` operation first:"
   ]
  },
  {
   "cell_type": "code",
   "execution_count": null,
   "metadata": {
    "slideshow": {
     "slide_type": "fragment"
    }
   },
   "outputs": [],
   "source": [
    "def my_fn(d: dict):\n",
    "    d = d.copy()\n",
    "    d['key1'] = ...\n",
    "    d['key2'] = ...\n",
    "    return d\n",
    "\n",
    "d = {'a': 1, 'b': 2}\n",
    "my_fn(d)"
   ]
  },
  {
   "cell_type": "code",
   "execution_count": null,
   "metadata": {
    "slideshow": {
     "slide_type": "fragment"
    }
   },
   "outputs": [],
   "source": [
    "d"
   ]
  },
  {
   "cell_type": "markdown",
   "metadata": {
    "slideshow": {
     "slide_type": "slide"
    }
   },
   "source": [
    "## A few code examples"
   ]
  },
  {
   "cell_type": "code",
   "execution_count": null,
   "metadata": {
    "slideshow": {
     "slide_type": "fragment"
    }
   },
   "outputs": [],
   "source": [
    "def parse_table_to_model(table, dataset_name):\n",
    "    return thread_first(table,\n",
    "                        parse_table,\n",
    "                        partial(set_defaults, dataset_name),\n",
    "                        partial(force_type, dataset_name),\n",
    "                        curried.map(partial(to_model, dataset_name)),\n",
    "                        list)"
   ]
  },
  {
   "cell_type": "code",
   "execution_count": null,
   "metadata": {
    "slideshow": {
     "slide_type": "slide"
    }
   },
   "outputs": [],
   "source": [
    "def deduplicate(items, keys):\n",
    "    get_key = juxt(map(attr, keys))\n",
    "    return thread_last(items,\n",
    "                       (groupby, get_key),\n",
    "                       (valmap, last),\n",
    "                       dict.values,\n",
    "                       list)"
   ]
  },
  {
   "cell_type": "code",
   "execution_count": null,
   "metadata": {
    "slideshow": {
     "slide_type": "slide"
    }
   },
   "outputs": [],
   "source": [
    "def apply_mapping_rules(data):\n",
    "    return thread_first(data,\n",
    "                        pre_clean,\n",
    "                        validate_inputs,\n",
    "                        apply_exclusions,\n",
    "                        calculate_due_dates,\n",
    "                        prepare_transaction_updates_from_clearing_lines,\n",
    "                        generate_payments,\n",
    "                        generate_document_deltas,\n",
    "                        generate_clearing_deltas,\n",
    "                        generate_supplier_deltas,\n",
    "                        finalize)"
   ]
  },
  {
   "cell_type": "markdown",
   "metadata": {
    "slideshow": {
     "slide_type": "slide"
    }
   },
   "source": [
    "# Think functional with `pandas`"
   ]
  },
  {
   "cell_type": "code",
   "execution_count": null,
   "metadata": {
    "slideshow": {
     "slide_type": "fragment"
    }
   },
   "outputs": [],
   "source": [
    "df = pd.DataFrame(np.random.random((5,3)), columns=list('abc'))\n",
    "df"
   ]
  },
  {
   "cell_type": "markdown",
   "metadata": {
    "slideshow": {
     "slide_type": "slide"
    }
   },
   "source": [
    "Instead of something like:\n",
    "```python\n",
    "df['sum'] = df.sum(axis=1)\n",
    "```\n",
    "use `df.assign`:"
   ]
  },
  {
   "cell_type": "code",
   "execution_count": null,
   "metadata": {
    "slideshow": {
     "slide_type": "fragment"
    }
   },
   "outputs": [],
   "source": [
    "df.assign(sum=df.sum(axis=1))"
   ]
  },
  {
   "cell_type": "markdown",
   "metadata": {
    "slideshow": {
     "slide_type": "slide"
    }
   },
   "source": [
    "Like many methods in Pandas, `assign` treats the DataFrame as immutable, i.e. it returns a new DataFrame with the new column, but does not change the original:"
   ]
  },
  {
   "cell_type": "code",
   "execution_count": null,
   "metadata": {
    "slideshow": {
     "slide_type": "fragment"
    }
   },
   "outputs": [],
   "source": [
    "df"
   ]
  },
  {
   "cell_type": "markdown",
   "metadata": {
    "slideshow": {
     "slide_type": "slide"
    }
   },
   "source": [
    "Similar to pipes, you can chain methods on a DataFrame. Note how you can re-run this cell any number of times, as the input is not changed, and the output remains the same for the same input."
   ]
  },
  {
   "cell_type": "code",
   "execution_count": null,
   "metadata": {
    "slideshow": {
     "slide_type": "fragment"
    }
   },
   "outputs": [],
   "source": [
    "def my_func(row: pd.Series):\n",
    "    return f\"Hello {row['a'] ** 2:.2f}\"\n",
    "\n",
    "df_transformed = (df\n",
    "    .assign(sum=lambda df: df.sum(axis=1))\n",
    "    .assign(a_percent=lambda df: df['a'] / df['sum'],\n",
    "            my_func_applied=partial(pd.DataFrame.apply, func=my_func, axis=1))\n",
    "    .drop(index=[1,3])\n",
    "    .sort_values('b')\n",
    "    .reset_index())\n",
    "\n",
    "df_transformed"
   ]
  },
  {
   "cell_type": "markdown",
   "metadata": {
    "slideshow": {
     "slide_type": "slide"
    }
   },
   "source": [
    "# A few code examples"
   ]
  },
  {
   "cell_type": "code",
   "execution_count": null,
   "metadata": {
    "slideshow": {
     "slide_type": "fragment"
    }
   },
   "outputs": [],
   "source": [
    "def get_aggregates(df):\n",
    "    aggregates = (df[lambda df: df['flow_type'] == 'instant-pay']\n",
    "                  .sort_values('run_id')\n",
    "                  .drop_duplicates(subset=['invoice_id'], keep='last')\n",
    "                  .assign(count=1)\n",
    "                  .assign(wa_accelerated_days=lambda df: df['accelerated_days'] * df['invoice_amount'])\n",
    "                  .agg({'invoice_amount': 'sum', 'rebate_amount': 'sum', 'fee_amount': 'sum', \n",
    "                        'payable_amount': 'sum', 'deducted_amount': 'sum', 'wa_accelerated_days': 'sum', 'count': 'sum'})\n",
    "                 ).to_dict()\n",
    "\n",
    "    return assoc(aggregates, 'wa_accelerated_days', \n",
    "                 round(aggregates['wa_accelerated_days'] / aggregates['invoice_amount'], 2))"
   ]
  },
  {
   "cell_type": "code",
   "execution_count": null,
   "metadata": {
    "slideshow": {
     "slide_type": "slide"
    }
   },
   "outputs": [],
   "source": [
    "def get_updated_transactions(transactions, change_records):\n",
    "    changes = (change_records\n",
    "               .sort_values('POLL_ID')\n",
    "               .drop_duplicates(keep='last', subset=['FIELD', 'REF_ID'])\n",
    "               .pivot_table(index='REF_ID', columns='FIELD', values='NEW_VALUE', aggfunc=lambda x: (x.iloc[0] if len(x) == 1 else None)))\n",
    "\n",
    "    def apply_changes(col: str):\n",
    "        def apply_(df):\n",
    "            return df[col].fillna(df[col.upper()])\n",
    "\n",
    "        return apply_\n",
    "\n",
    "    return (transactions\n",
    "            .merge(changes, how='left', left_on='REF_ID', right_index=True)\n",
    "            .assign(**{col.upper(): apply_changes(col) for col in changes.columns})\n",
    "            .drop(columns=changes.columns))"
   ]
  },
  {
   "cell_type": "markdown",
   "metadata": {
    "slideshow": {
     "slide_type": "slide"
    }
   },
   "source": [
    "# Thank you\n",
    "Any questions?"
   ]
  }
 ],
 "metadata": {
  "celltoolbar": "Slideshow",
  "kernelspec": {
   "display_name": "Python 3",
   "language": "python",
   "name": "python3"
  },
  "language_info": {
   "codemirror_mode": {
    "name": "ipython",
    "version": 3
   },
   "file_extension": ".py",
   "mimetype": "text/x-python",
   "name": "python",
   "nbconvert_exporter": "python",
   "pygments_lexer": "ipython3",
   "version": "3.7.4"
  },
  "rise": {
   "scroll": true
  },
  "toc-autonumbering": true
 },
 "nbformat": 4,
 "nbformat_minor": 4
}
